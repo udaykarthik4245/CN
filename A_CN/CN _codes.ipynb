{
  "nbformat": 4,
  "nbformat_minor": 0,
  "metadata": {
    "colab": {
      "provenance": []
    },
    "kernelspec": {
      "name": "python3",
      "display_name": "Python 3"
    },
    "language_info": {
      "name": "python"
    }
  },
  "cells": [
    {
      "cell_type": "markdown",
      "source": [
        "bit stuffing\n"
      ],
      "metadata": {
        "id": "_baaeYKab6ZH"
      }
    },
    {
      "cell_type": "code",
      "execution_count": 9,
      "metadata": {
        "colab": {
          "base_uri": "https://localhost:8080/"
        },
        "id": "T_vqSUztb2bW",
        "outputId": "44ee7cb9-f3b2-4369-b625-402c1ce370b0"
      },
      "outputs": [
        {
          "output_type": "stream",
          "name": "stdout",
          "text": [
            "111110100111100110111101111110\n",
            "Stuffed data: 11111001001111001101111011111010\n",
            "Destuffed data: 111100100111100110111101111010\n"
          ]
        }
      ],
      "source": [
        "def bit_stuff(data):\n",
        "    stuffed_data = \"\"\n",
        "    count = 0\n",
        "    for bit in data:\n",
        "        if bit == '1':\n",
        "            count += 1\n",
        "            stuffed_data += bit\n",
        "        else:\n",
        "            count = 0\n",
        "            stuffed_data += bit\n",
        "\n",
        "        if count == 5:\n",
        "            stuffed_data += '0'\n",
        "            count = 0\n",
        "\n",
        "    return stuffed_data\n",
        "\n",
        "def bit_destuff(data):\n",
        "    destuffed_data = \"\"\n",
        "    count = 0\n",
        "\n",
        "    for bit in data:\n",
        "        if bit == '1':\n",
        "            count += 1\n",
        "            destuffed_data += bit\n",
        "        else:\n",
        "            count = 0\n",
        "            destuffed_data += bit\n",
        "\n",
        "        if count == 5 and len(destuffed_data) > 1:  # Skip if the first bit is stuffed\n",
        "            if destuffed_data[-1] == '0':\n",
        "                count = 0\n",
        "            else:\n",
        "                destuffed_data = destuffed_data[:-1]  # Remove the stuffed bit\n",
        "                count -= 1\n",
        "\n",
        "    return destuffed_data\n",
        "\n",
        "\n",
        "\n",
        "\n",
        "# Example usage\n",
        "data = input()  # Original data\n",
        "stuffed_data = bit_stuff(data)\n",
        "print(\"Stuffed data:\", stuffed_data)\n",
        "\n",
        "destuffed_data = bit_destuff(stuffed_data)\n",
        "print(\"Destuffed data:\", destuffed_data)\n",
        "\n"
      ]
    },
    {
      "cell_type": "markdown",
      "source": [
        "bit destuffing"
      ],
      "metadata": {
        "id": "BCQXFGiwgRcF"
      }
    },
    {
      "cell_type": "code",
      "source": [
        "# Function for bit de-stuffing\n",
        "def bit_destuffing(data):\n",
        "    destuffed_data = ''\n",
        "    i = 0\n",
        "    j = 0\n",
        "\n",
        "    # Loop to traverse the data string\n",
        "    while i < len(data):\n",
        "        # If the current bit is a set bit\n",
        "        if data[i] == '1':\n",
        "            destuffed_data += data[i]\n",
        "\n",
        "            # Loop to check for the next 5 bits\n",
        "            count = 1\n",
        "            k = i + 1\n",
        "            while k < len(data) and data[k] == '1' and count < 5:\n",
        "                destuffed_data += data[k]\n",
        "                count += 1\n",
        "                # If 5 consecutive set bits are found, skip the next bit\n",
        "                if count == 5:\n",
        "                    k += 1\n",
        "                i = k\n",
        "\n",
        "        # Otherwise, insert the current bit into the destuffed_data\n",
        "        else:\n",
        "            destuffed_data += data[i]\n",
        "\n",
        "        i += 1\n",
        "        j += 1\n",
        "\n",
        "    # Print Destuffed data\n",
        "    print(\"Destuffed data:\", destuffed_data)\n",
        "\n",
        "# Driver Code\n",
        "if __name__ == '__main__':\n",
        "    data = \"111110100111100110111101111110\"  # Example input string\n",
        "    bit_destuffing(data)\n"
      ],
      "metadata": {
        "colab": {
          "base_uri": "https://localhost:8080/"
        },
        "id": "uDNcbTnsgP2Y",
        "outputId": "89eb1ed0-fe79-441f-df4e-8f20fca342ed"
      },
      "execution_count": 10,
      "outputs": [
        {
          "output_type": "stream",
          "name": "stdout",
          "text": [
            "Destuffed data: 11111111111001111110011111111111011111111110\n"
          ]
        }
      ]
    },
    {
      "cell_type": "markdown",
      "source": [],
      "metadata": {
        "id": "gAGWp5YcfBbc"
      }
    },
    {
      "cell_type": "markdown",
      "source": [
        "BYTE STUFFING\n"
      ],
      "metadata": {
        "id": "dlNITN8-d7Et"
      }
    },
    {
      "cell_type": "code",
      "source": [
        "list1=[]\n",
        "flag='@'\n",
        "esc='/'\n",
        "a=input('Enter your message=')\n",
        "list1.append(flag)\n",
        "len1=len(a)\n",
        "for i in a:\n",
        " if i=='@':\n",
        "  list1.append(esc)\n",
        "  list1.append(i)\n",
        " else:\n",
        "  list1.append(i)\n",
        "list1.append(flag)\n",
        "print ('At senders side=',list1)\n",
        "len1=len(a)\n",
        "list2=[]\n",
        "del list1[0],list1[len(list1)-1]\n",
        "for i in range(0,len1,1):\n",
        " if a[i]=='#':\n",
        "  list1.remove('#')\n",
        " else:\n",
        "  list2.append(a[i])\n",
        "print ('At recievers side=',list2)"
      ],
      "metadata": {
        "colab": {
          "base_uri": "https://localhost:8080/"
        },
        "id": "_EnLGeBvcfp-",
        "outputId": "20cb7346-b475-4543-b0ce-db340f72a01a"
      },
      "execution_count": 11,
      "outputs": [
        {
          "output_type": "stream",
          "name": "stdout",
          "text": [
            "Enter your message=ravikarthik@gmail.com\n",
            "At senders side= ['@', 'r', 'a', 'v', 'i', 'k', 'a', 'r', 't', 'h', 'i', 'k', '/', '@', 'g', 'm', 'a', 'i', 'l', '.', 'c', 'o', 'm', '@']\n",
            "At recievers side= ['r', 'a', 'v', 'i', 'k', 'a', 'r', 't', 'h', 'i', 'k', '@', 'g', 'm', 'a', 'i', 'l', '.', 'c', 'o', 'm']\n"
          ]
        }
      ]
    },
    {
      "cell_type": "markdown",
      "source": [
        "PARITY CHECKS IMPLEMENTATIONS"
      ],
      "metadata": {
        "id": "3yADGLEshZbl"
      }
    },
    {
      "cell_type": "code",
      "source": [
        "# Python3 code to get parity of a binary string.\n",
        "\n",
        "# Function to get parity of binary string.\n",
        "# It returns 1 if the binary string has odd parity,\n",
        "# and returns 0 if it has even parity\n",
        "def getParity(binary_string):\n",
        "    # Convert binary string to integer\n",
        "    n = int(binary_string, 2)\n",
        "    parity = 0\n",
        "    while n:\n",
        "        parity = ~parity\n",
        "        n = n & (n - 1)\n",
        "    return parity\n",
        "\n",
        "# Driver program to test getParity()\n",
        "binary_string = input(\"Enter a binary string: \")\n",
        "print(\"Parity of binary string\", binary_string, \" = \",\n",
        "     (\"odd\" if getParity(binary_string) else \"even\"))\n"
      ],
      "metadata": {
        "colab": {
          "base_uri": "https://localhost:8080/"
        },
        "id": "g_L8CvBmpFET",
        "outputId": "d406fc6e-f49b-4149-944b-fcf1e2eeb34e"
      },
      "execution_count": 17,
      "outputs": [
        {
          "output_type": "stream",
          "name": "stdout",
          "text": [
            "Enter a binary string: 0101101\n",
            "Parity of binary string 0101101  =  even\n"
          ]
        }
      ]
    },
    {
      "cell_type": "markdown",
      "source": [
        "main parity check code"
      ],
      "metadata": {
        "id": "Ajy7k0FUsYzX"
      }
    },
    {
      "cell_type": "code",
      "source": [
        "def get_vrc(data):\n",
        "    vrc = ''\n",
        "    for i in range(len(data[0])):  # Iterate over each bit position\n",
        "        count = sum(int(dataword[i]) for dataword in data)  # Count the number of set bits\n",
        "        vrc += str(count % 2)  # Append the parity bit\n",
        "    return vrc\n",
        "\n",
        "def get_lrc(data):\n",
        "    lrc = ''\n",
        "    for i in range(7):  # Iterate over each bit position\n",
        "        count = sum(int(dataword[i]) for dataword in data)  # Count the number of set bits\n",
        "        lrc += str(count % 2)  # Append the parity bit\n",
        "    return lrc\n",
        "\n",
        "# Function to get parity of binary string.\n",
        "# It returns 1 if the binary string has odd parity,\n",
        "# and returns 0 if it has even parity\n",
        "def get_parity(binary_string):\n",
        "    # Convert binary string to integer\n",
        "    n = int(binary_string, 2)\n",
        "    parity = 0\n",
        "    while n:\n",
        "        parity = ~parity\n",
        "        n = n & (n - 1)\n",
        "    return parity\n",
        "\n",
        "# Driver program to test getParity()\n",
        "if __name__ == \"__main__\":\n",
        "    # Input binary strings\n",
        "    data = []\n",
        "    for i in range(4):\n",
        "        while True:\n",
        "            binary_string = input(f\"Enter binary string {i+1}: \")\n",
        "            if len(binary_string) != 7 or not all(bit in ['0', '1'] for bit in binary_string):\n",
        "                print(\"Invalid binary string. Enter a 7-bit binary string.\")\n",
        "                continue\n",
        "            else:\n",
        "                data.append(binary_string)\n",
        "                break\n",
        "\n",
        "    # Get and print VRC\n",
        "    vrc = get_vrc(data)\n",
        "    print(\"Vertical Redundancy Check (VRC):\", vrc)\n",
        "\n",
        "\n",
        "    # Get and print LRC\n",
        "    lrc = get_lrc(data)\n",
        "    print(\"Longitudinal Redundancy Check (LRC):\")\n",
        "\n",
        "    # Get and print parity\n",
        "    for i, binary_string in enumerate(data):\n",
        "        parity = get_parity(binary_string)\n",
        "        print(f\"Parity of binary string {i+1} = {'odd' if parity else 'even'}\")\n",
        "# example:\n",
        "# Enter binary string 1: 0101101\n",
        "# Enter binary string 2: 1011010\n",
        "# Enter binary string 3: 1110010\n",
        "# Enter binary string 4: 0001110"
      ],
      "metadata": {
        "colab": {
          "base_uri": "https://localhost:8080/"
        },
        "id": "xSXQHjLJqWo1",
        "outputId": "2f9fb1fb-c477-4fb0-877f-909766adb949"
      },
      "execution_count": 18,
      "outputs": [
        {
          "output_type": "stream",
          "name": "stdout",
          "text": [
            "Enter binary string 1: 0101101\n",
            "Enter binary string 2: 1011010\n",
            "Enter binary string 3: 1110010\n",
            "Enter binary string 4: 0001110\n",
            "Vertical Redundancy Check (VRC): 0001011\n",
            "Longitudinal Redundancy Check (LRC): 0001011\n",
            "Parity of binary string 1 = even\n",
            "Parity of binary string 2 = even\n",
            "Parity of binary string 3 = even\n",
            "Parity of binary string 4 = odd\n"
          ]
        }
      ]
    },
    {
      "cell_type": "markdown",
      "source": [
        "LRC(LONGITUDINAL REDUNDANCY CHECK)\n"
      ],
      "metadata": {
        "id": "xUqAM7d5kak0"
      }
    },
    {
      "cell_type": "code",
      "source": [
        "def calculate_lrc(data):\n",
        "    lrc = ''\n",
        "    for i in range(len(data[0])):\n",
        "        c1 = data[0][i]\n",
        "        c2 = data[1][i]\n",
        "        c3 = data[2][i]\n",
        "        e = int(c1) + int(c2) + int(c3)\n",
        "        if e % 2 == 0:\n",
        "            lrc += '1'\n",
        "        else:\n",
        "            lrc += '0'\n",
        "    return lrc\n",
        "\n",
        "# Main function\n",
        "if __name__ == \"__main__\":\n",
        "    # Input datawords\n",
        "    datawords = []\n",
        "    for i in range(3):\n",
        "        while True:\n",
        "            dataword = input(f\"Enter {i+1}st Dataword: \")\n",
        "            if len(dataword) != 7 or not all(bit in ['0', '1'] for bit in dataword):\n",
        "                print(\"Invalid Data. Enter a 7-bit binary dataword.\")\n",
        "                continue\n",
        "            else:\n",
        "                datawords.append(dataword)\n",
        "                break\n",
        "\n",
        "    # Calculate LRC\n",
        "    lrc = calculate_lrc(datawords)\n",
        "\n",
        "    # Concatenate datawords and LRC\n",
        "    transmitted_data = ''.join(datawords) + lrc\n",
        "\n",
        "    print(\"LRC:\", transmitted_data)\n"
      ],
      "metadata": {
        "colab": {
          "base_uri": "https://localhost:8080/"
        },
        "id": "KCfUZj9IeWMg",
        "outputId": "92cd182c-aedb-419c-e185-9d72551ae65c"
      },
      "execution_count": 13,
      "outputs": [
        {
          "output_type": "stream",
          "name": "stdout",
          "text": [
            "Enter 1st Dataword: 0101101\n",
            "Enter 2st Dataword: \n",
            "Invalid Data. Enter a 7-bit binary dataword.\n",
            "Enter 2st Dataword: 1011010\n",
            "Enter 3st Dataword: 1110010\n",
            "LRC: 0101101101101011100101111010\n"
          ]
        }
      ]
    },
    {
      "cell_type": "markdown",
      "source": [
        "FIND ONLY LRC"
      ],
      "metadata": {
        "id": "ix2p6gSytOe7"
      }
    },
    {
      "cell_type": "code",
      "source": [
        "def calculate_lrc(datawords):\n",
        "    lrc = ''\n",
        "    for i in range(len(datawords[0])):\n",
        "        count = sum(int(d[i]) for d in datawords)\n",
        "        if count % 2 == 0:\n",
        "            lrc += '1'\n",
        "        else:\n",
        "            lrc += '0'\n",
        "    return lrc\n",
        "\n",
        "# Main function to get input and calculate LRC\n",
        "def main():\n",
        "    datawords = []\n",
        "    for _ in range(4):  # Assuming 3 datawords as per the original C program\n",
        "        dataword = input(\"Enter a binary dataword (8 bits): \")\n",
        "        if len(dataword)!= 8:\n",
        "            print(\"Invalid Data\")\n",
        "            continue\n",
        "        if not all(c in '01' for c in dataword):\n",
        "            print(\"Enter binary digits\")\n",
        "            continue\n",
        "        datawords.append(dataword)\n",
        "\n",
        "    lrc = calculate_lrc(datawords)\n",
        "    print(f\"\\nLRC: {lrc[::-1]}\")\n",
        "\n",
        "if __name__ == \"__main__\":\n",
        "    main()\n",
        "# EXAMPLE\n",
        "# Enter a binary dataword (8 bits): 11100111\n",
        "# Enter a binary dataword (8 bits): 11011101\n",
        "# Enter a binary dataword (8 bits): 00111001\n",
        "# Enter a binary dataword (8 bits): 10101001"
      ],
      "metadata": {
        "colab": {
          "base_uri": "https://localhost:8080/"
        },
        "id": "kh0k1dU1kfh9",
        "outputId": "8630cf8a-299a-4f44-e708-a7e5a050f53d"
      },
      "execution_count": 20,
      "outputs": [
        {
          "output_type": "stream",
          "name": "stdout",
          "text": [
            "Enter a binary dataword (8 bits): 11100111\n",
            "Enter a binary dataword (8 bits): 11011101\n",
            "Enter a binary dataword (8 bits): 00111001\n",
            "Enter a binary dataword (8 bits): 10101001\n",
            "\n",
            "LRC: 01010101\n"
          ]
        }
      ]
    },
    {
      "cell_type": "markdown",
      "source": [
        "CRC\n"
      ],
      "metadata": {
        "id": "EfU24uFGyNS7"
      }
    },
    {
      "cell_type": "code",
      "source": [
        "def xor(a, b):\n",
        "    result = []\n",
        "    for i in range(1, len(b)):\n",
        "        if a[i] == b[i]:\n",
        "            result.append('0')\n",
        "        else:\n",
        "            result.append('1')\n",
        "    return ''.join(result)\n",
        "\n",
        "def mod2div(dividend, divisor):\n",
        "    pick = len(divisor)\n",
        "    tmp = dividend[0: pick]\n",
        "    while pick < len(dividend):\n",
        "        if tmp[0] == '1':\n",
        "            tmp = xor(divisor, tmp) + dividend[pick]\n",
        "        else:\n",
        "            tmp = xor('0'*pick, tmp) + dividend[pick]\n",
        "        pick += 1\n",
        "    if tmp[0] == '1':\n",
        "        tmp = xor(divisor, tmp)\n",
        "    else:\n",
        "        tmp = xor('0'*pick, tmp)\n",
        "    checkword = tmp\n",
        "    return checkword\n",
        "\n",
        "def encodeData(data, key):\n",
        "    l_key = len(key)\n",
        "    appended_data = data + '0'*(l_key-1)\n",
        "    remainder = mod2div(appended_data, key)\n",
        "    codeword = data + remainder\n",
        "    print(\"Remainder:\", remainder)\n",
        "    print(\"Encoded Data (Data + Remainder):\", codeword)\n",
        "    return codeword\n",
        "\n",
        "def decodeData(codeword, key):\n",
        "    remainder = mod2div(codeword, key)\n",
        "    print(\"Remainder:\", remainder)\n",
        "    if all(bit == '0' for bit in remainder):\n",
        "        print(\"No Error Detected\")\n",
        "    else:\n",
        "        print(\"Error Detected\")\n",
        "\n",
        "if __name__ == \"__main__\":\n",
        "    data = input(\"Enter data: \")\n",
        "    key = input(\"Enter key: \")\n",
        "\n",
        "    # Sender side\n",
        "    print(\"at sender side\")\n",
        "    codeword = encodeData(data, key)\n",
        "    print('at reciever side')\n",
        "    # Receiver side\n",
        "    decodeData(codeword, key)\n"
      ],
      "metadata": {
        "colab": {
          "base_uri": "https://localhost:8080/"
        },
        "id": "JpvHHX_itsL0",
        "outputId": "dc9a6d64-b6c4-4d0d-ed5c-f935ebbdb85a"
      },
      "execution_count": 26,
      "outputs": [
        {
          "output_type": "stream",
          "name": "stdout",
          "text": [
            "Enter data: 11010110100\n",
            "Enter key: 101\n",
            "at sender side\n",
            "Remainder: 11\n",
            "Encoded Data (Data + Remainder): 1101011010011\n",
            "at reciever side\n",
            "Remainder: 00\n",
            "No Error Detected\n"
          ]
        }
      ]
    },
    {
      "cell_type": "markdown",
      "source": [
        "CHECKSUM"
      ],
      "metadata": {
        "id": "XqF8DqQp4FmI"
      }
    },
    {
      "cell_type": "code",
      "source": [
        "def ones_complement(data):\n",
        "    return ''.join(['1' if bit == '0' else '0' for bit in data])\n",
        "\n",
        "def checksum(data, block_size):\n",
        "    n = len(data)\n",
        "    if n % block_size != 0:\n",
        "        pad_size = block_size - (n % block_size)\n",
        "        data = '0' * pad_size + data\n",
        "\n",
        "    result = data[:block_size]\n",
        "\n",
        "    for i in range(block_size, n, block_size):\n",
        "        next_block = data[i:i+block_size]\n",
        "\n",
        "        additions = \"\"\n",
        "        carry = 0\n",
        "\n",
        "        for j in range(block_size - 1, -1, -1):\n",
        "            sum_ = (int(next_block[j]) + int(result[j]) + carry)\n",
        "            carry = sum_ // 2\n",
        "            additions = str(sum_ % 2) + additions\n",
        "\n",
        "        final = \"\"\n",
        "        for digit in additions[::-1]:\n",
        "            sum_ = int(digit) + carry\n",
        "            carry = sum_ // 2\n",
        "            final = str(sum_ % 2) + final\n",
        "\n",
        "        result = final\n",
        "\n",
        "    return ones_complement(result)\n",
        "\n",
        "# Driver code\n",
        "if __name__ == \"__main__\":\n",
        "    bit_str1 = input(\"Enter the first binary string: \")\n",
        "    bit_str2 = input(\"Enter the second binary string: \")\n",
        "\n",
        "    checksum_result = checksum(bit_str1 + bit_str2, len(bit_str1))\n",
        "    print(\"Checksum:\", checksum_result)\n",
        "    # Function to find the one's complement of the given binary string\n",
        "\n",
        "# nter the first binary string: 1110011001100110\n",
        "# Enter the second binary string: 1101010101010101\n",
        "# Checksum: 0100010001000011"
      ],
      "metadata": {
        "colab": {
          "base_uri": "https://localhost:8080/"
        },
        "id": "GtUpoCHly0t1",
        "outputId": "35805cae-25eb-44cf-ffdc-b19de5119ad4"
      },
      "execution_count": 33,
      "outputs": [
        {
          "output_type": "stream",
          "name": "stdout",
          "text": [
            "Enter the first binary string: 1110011001100110\n",
            "Enter the second binary string: 1110011001100110\n",
            "Checksum: 0011001100110010\n"
          ]
        }
      ]
    },
    {
      "cell_type": "markdown",
      "source": [
        "HAMMING CODE"
      ],
      "metadata": {
        "id": "hzNU1dfp5HYN"
      }
    },
    {
      "cell_type": "code",
      "source": [
        "def ham_calc(position, code):\n",
        "    count = 0\n",
        "    i = position - 1\n",
        "\n",
        "    while i < len(code):\n",
        "        for j in range(i, min(i + position, len(code))):\n",
        "            if code[j] == '1':\n",
        "                count += 1\n",
        "        i = i + 2 * position\n",
        "\n",
        "    return '1' if count % 2 != 0 else '0'\n",
        "\n",
        "def solve(input_bits):\n",
        "    p_n = 0\n",
        "    i = 0\n",
        "\n",
        "    while len(input_bits) > (2 ** i) - (i + 1):\n",
        "        p_n += 1\n",
        "        i += 1\n",
        "\n",
        "    c_l = p_n + len(input_bits)\n",
        "    code = ['0'] * c_l\n",
        "    j = k = 0\n",
        "\n",
        "    for i in range(c_l):\n",
        "        if i == (2 ** k) - 1:\n",
        "            k += 1\n",
        "        else:\n",
        "            code[i] = input_bits[j]\n",
        "            j += 1\n",
        "\n",
        "    for i in range(p_n):\n",
        "        position = 2 ** i\n",
        "        value = ham_calc(position, code)\n",
        "        code[position - 1] = value\n",
        "\n",
        "    print(\"The generated Code Word is:\", ''.join(code))\n",
        "\n",
        "# Given input message Bit as string\n",
        "input_bits_str = \"0111\"\n",
        "\n",
        "# Convert string to list of bits\n",
        "input_bits = list(input_bits_str)\n",
        "\n",
        "# Function Call\n",
        "solve(input_bits)\n"
      ],
      "metadata": {
        "colab": {
          "base_uri": "https://localhost:8080/"
        },
        "id": "EGrfwVfj4X_N",
        "outputId": "e1fffbdf-8a36-42b3-ab01-50b1bbbc1f3f"
      },
      "execution_count": 36,
      "outputs": [
        {
          "output_type": "stream",
          "name": "stdout",
          "text": [
            "The generated Code Word is: 0001111\n"
          ]
        }
      ]
    },
    {
      "cell_type": "markdown",
      "source": [
        "DJIKSTRAS ALGORITHM"
      ],
      "metadata": {
        "id": "vrqUQiJh7ruF"
      }
    },
    {
      "cell_type": "code",
      "source": [
        "import heapq\n",
        "\n",
        "def dijkstra(graph, source):\n",
        "    # Initialize distances dictionary to store shortest distances from source\n",
        "    distances = {vertex: float('inf') for vertex in graph}\n",
        "    distances[source] = 0\n",
        "\n",
        "    # Priority queue to store vertices with their corresponding distances\n",
        "    priority_queue = [(0, source)]\n",
        "\n",
        "    while priority_queue:\n",
        "        # Pop vertex with minimum distance from the priority queue\n",
        "        current_distance, current_vertex = heapq.heappop(priority_queue)\n",
        "\n",
        "        # If current distance is greater than the stored distance, skip\n",
        "        if current_distance > distances[current_vertex]:\n",
        "            continue\n",
        "\n",
        "        # Traverse neighbors of the current vertex\n",
        "        for neighbor, weight in graph[current_vertex].items():\n",
        "            distance = current_distance + weight\n",
        "\n",
        "            # If new distance is shorter, update distances dictionary and priority queue\n",
        "            if distance < distances[neighbor]:\n",
        "                distances[neighbor] = distance\n",
        "                heapq.heappush(priority_queue, (distance, neighbor))\n",
        "\n",
        "    return distances\n",
        "\n",
        "# Take input for graph data\n",
        "graph = {}\n",
        "num_edges = int(input(\"Enter the number of edges: \"))\n",
        "for _ in range(num_edges):\n",
        "    start, end, weight = input(\"Enter start, end, and weight separated by space: \").split()\n",
        "    weight = int(weight)\n",
        "    if start not in graph:\n",
        "        graph[start] = {}\n",
        "    if end not in graph:\n",
        "        graph[end] = {}\n",
        "    graph[start][end] = weight\n",
        "    graph[end][start] = weight\n",
        "\n",
        "# Take input for source vertex\n",
        "source_vertex = input(\"Enter the source vertex: \")\n",
        "\n",
        "# Call Dijkstra's algorithm\n",
        "shortest_distances = dijkstra(graph, source_vertex)\n",
        "\n",
        "# Print shortest distances from source vertex\n",
        "print(\"Shortest distances from vertex\", source_vertex)\n",
        "for vertex, distance in shortest_distances.items():\n",
        "    print(\"Vertex:\", vertex, \"Distance:\", distance)\n"
      ],
      "metadata": {
        "colab": {
          "base_uri": "https://localhost:8080/"
        },
        "id": "4yHCZ_K25e5H",
        "outputId": "10c7d102-9feb-47d2-9a79-ecfaf4f3d215"
      },
      "execution_count": 39,
      "outputs": [
        {
          "output_type": "stream",
          "name": "stdout",
          "text": [
            "Enter the number of edges: 4\n",
            "Enter start, end, and weight separated by space: A B 5\n",
            "Enter start, end, and weight separated by space: B C 4\n",
            "Enter start, end, and weight separated by space: C D 1\n",
            "Enter start, end, and weight separated by space: D A 4\n",
            "Enter the source vertex: A\n",
            "Shortest distances from vertex A\n",
            "Vertex: A Distance: 0\n",
            "Vertex: B Distance: 5\n",
            "Vertex: C Distance: 5\n",
            "Vertex: D Distance: 4\n"
          ]
        }
      ]
    },
    {
      "cell_type": "markdown",
      "source": [
        "BELLMAN-FORD ALGORITHM"
      ],
      "metadata": {
        "id": "jg0rSAlx8wK7"
      }
    },
    {
      "cell_type": "code",
      "source": [
        "'''Bellman-Ford algorithm is used to find the shortest paths\n",
        " from a single source vertex to all other vertices in a weighted graph, even\n",
        "if the graph contains negative weight edges\n",
        " (as long as there are no negative weight cycles).\n",
        "  Below is a Python implementation of the Bellman-Ford algorithm:'''\n",
        "\n",
        "class Graph:\n",
        "    def __init__(self, vertices):\n",
        "        self.V = vertices\n",
        "        self.graph = []\n",
        "\n",
        "    def add_edge(self, u, v, w):\n",
        "        self.graph.append([u, v, w])\n",
        "\n",
        "    def bellman_ford(self, src):\n",
        "        # Initialize distances from source to all vertices as infinity\n",
        "        dist = [float('inf')] * self.V\n",
        "        dist[src] = 0\n",
        "\n",
        "        # Relax all edges V-1 times\n",
        "        for _ in range(self.V - 1):\n",
        "            for u, v, w in self.graph:\n",
        "                if dist[u] != float('inf') and dist[u] + w < dist[v]:\n",
        "                    dist[v] = dist[u] + w\n",
        "\n",
        "        # Check for negative weight cycles\n",
        "        for u, v, w in self.graph:\n",
        "            if dist[u] != float('inf') and dist[u] + w < dist[v]:\n",
        "                print(\"Graph contains negative weight cycle\")\n",
        "                return\n",
        "\n",
        "        # Print shortest distances\n",
        "        print(\"Vertex \\tDistance from Source\")\n",
        "        for i in range(self.V):\n",
        "            print(f\"{i}\\t{dist[i]}\")\n",
        "\n",
        "\n",
        "# Example usage\n",
        "g = Graph(5)\n",
        "g.add_edge(0, 1, -1)\n",
        "g.add_edge(0, 2, 4)\n",
        "g.add_edge(1, 2, 3)\n",
        "g.add_edge(1, 3, 2)\n",
        "g.add_edge(1, 4, 2)\n",
        "g.add_edge(3, 2, 5)\n",
        "g.add_edge(3, 1, 1)\n",
        "g.add_edge(4, 3, -3)\n",
        "\n",
        "# Source vertex\n",
        "src = 0\n",
        "g.bellman_ford(src)\n",
        ""
      ],
      "metadata": {
        "colab": {
          "base_uri": "https://localhost:8080/"
        },
        "id": "N7taZtyK7udg",
        "outputId": "74787237-5e84-4839-c0dd-72560197d878"
      },
      "execution_count": 40,
      "outputs": [
        {
          "output_type": "stream",
          "name": "stdout",
          "text": [
            "Vertex \tDistance from Source\n",
            "0\t0\n",
            "1\t-1\n",
            "2\t2\n",
            "3\t-2\n",
            "4\t1\n"
          ]
        }
      ]
    },
    {
      "cell_type": "markdown",
      "source": [
        "FLOYD WARSHALLS ALGO"
      ],
      "metadata": {
        "id": "jrCLDjAP9QB_"
      }
    },
    {
      "cell_type": "code",
      "source": [
        "INF = float('inf')\n",
        "\n",
        "def floyd_warshall(graph):\n",
        "    V = len(graph)\n",
        "    dist = [[0]*V for _ in range(V)]\n",
        "\n",
        "    # Initialize distance matrix\n",
        "    for i in range(V):\n",
        "        for j in range(V):\n",
        "            dist[i][j] = graph[i][j]\n",
        "\n",
        "    # Iterate through all vertices\n",
        "    for k in range(V):\n",
        "        # Pick all vertices as source one by one\n",
        "        for i in range(V):\n",
        "            # Pick all vertices as destination for the above source\n",
        "            for j in range(V):\n",
        "                # If vertex k is on the shortest path from i to j, then update the value of dist[i][j]\n",
        "                dist[i][j] = min(dist[i][j], dist[i][k] + dist[k][j])\n",
        "\n",
        "    # Print the shortest distances\n",
        "    print(\"Shortest distances between all pairs of vertices:\")\n",
        "    for i in range(V):\n",
        "        for j in range(V):\n",
        "            if dist[i][j] == INF:\n",
        "                print(\"INF\", end=\" \")\n",
        "            else:\n",
        "                print(dist[i][j], end=\"  \")\n",
        "        print()\n",
        "\n",
        "\n",
        "# Example usage\n",
        "graph = [\n",
        "    [0, 5, INF, 10],\n",
        "    [INF, 0, 3, INF],\n",
        "    [INF, INF, 0, 1],\n",
        "    [INF, INF, INF, 0]\n",
        "]\n",
        "\n",
        "floyd_warshall(graph)\n"
      ],
      "metadata": {
        "colab": {
          "base_uri": "https://localhost:8080/"
        },
        "id": "jZqcr-I88zKz",
        "outputId": "51c297a3-84e8-4e8a-d982-120ebd025904"
      },
      "execution_count": 41,
      "outputs": [
        {
          "output_type": "stream",
          "name": "stdout",
          "text": [
            "Shortest distances between all pairs of vertices:\n",
            "0  5  8  9  \n",
            "INF 0  3  4  \n",
            "INF INF 0  1  \n",
            "INF INF INF 0  \n"
          ]
        }
      ]
    },
    {
      "cell_type": "code",
      "source": [],
      "metadata": {
        "id": "vKFx00Aj9Vma"
      },
      "execution_count": null,
      "outputs": []
    }
  ]
}